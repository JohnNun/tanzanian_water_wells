{
 "cells": [
  {
   "cell_type": "markdown",
   "metadata": {},
   "source": [
    "# Tanzanian Water Wells\n",
    "By Jonathan Nunez"
   ]
  },
  {
   "cell_type": "markdown",
   "metadata": {},
   "source": [
    "# Business Understanding\n",
    "As a developing country, Tanzania struggles with providing clean water to its population of over 57,000,000. As it is now, there are many water points that have already been built throughout the country, but some are in need of repair while others have failed altogether.\n",
    "\n",
    "By using information about the sort of pump, year of installation, etc. I am to build a classifier to predict the condition of a water well or pump as either 'functional' or 'non-functional'. Through the predictions of the model, the government of Tanzania may be able to effectively and efficiently allocate the necessary resources to locations that are in desperate need of repairs."
   ]
  },
  {
   "cell_type": "markdown",
   "metadata": {},
   "source": [
    "# Data Understanding\n",
    "The data used for this project was gathered from [Taarifa](https://taarifa.org/) and [Tanzanian Ministry of Water](https://www.maji.go.tz/). The information that can be found in this data set ranges from the year the pump, water well, etc. was first constructed, to who funded the construction of that specific water source. This dataset also provides an abundance of categorical data, for example longitude/latitude, type of water, etc. In total this dataset holds information on over 50,000 plus water sources ranging from first constructed in 1966 up to 2010, and even water sources that are yet to be fully constructed. Since I am trying to predict which pumps and wells are in need of repairs to provide clean water to its population, I will be primarily focusing on rows and columns for pumps and water wells that have a civilian population who heavily rely on these pumps and wells for water. "
   ]
  },
  {
   "cell_type": "markdown",
   "metadata": {},
   "source": [
    "# Data Preparation"
   ]
  },
  {
   "cell_type": "code",
   "execution_count": 1,
   "metadata": {},
   "outputs": [],
   "source": [
    "# Importing needed tools and modules\n",
    "import pandas as pd\n",
    "import numpy as np\n",
    "import numpy as np\n",
    "import math\n",
    "\n",
    "import matplotlib.pyplot as plt\n",
    "import seaborn as sns\n",
    "%matplotlib inline"
   ]
  },
  {
   "cell_type": "code",
   "execution_count": 2,
   "metadata": {
    "scrolled": false
   },
   "outputs": [],
   "source": [
    "# Loading data\n",
    "tww_data = pd.read_csv('data/training_set_values.csv')\n",
    "tww_labels = pd.read_csv('data/training_set_labels.csv')"
   ]
  },
  {
   "cell_type": "markdown",
   "metadata": {},
   "source": [
    "Dropping the 'id' column from the labels data frame as this data frame is sorted in the exact same way as the overall data making it easier to combine both data frames. I also drop columns that are unique identifiers, such as longitude and latitude as data like this doesn't really help with the prediction. There are also columns with different titles but have the same information as a different column minimal variation. For example, the 'quantity' and 'quantity_group', both have the exact information on the how much water remains in the specific water source, so I kept the group column and dropped the other."
   ]
  },
  {
   "cell_type": "code",
   "execution_count": 3,
   "metadata": {},
   "outputs": [],
   "source": [
    "# Dropping 'id' column\n",
    "tww_labels = tww_labels.drop(columns='id')"
   ]
  },
  {
   "cell_type": "code",
   "execution_count": 4,
   "metadata": {},
   "outputs": [],
   "source": [
    "# Combining the lables data set with overall data\n",
    "tww_data = pd.concat([tww_data, tww_labels], axis=1)"
   ]
  },
  {
   "cell_type": "code",
   "execution_count": 5,
   "metadata": {
    "scrolled": false
   },
   "outputs": [],
   "source": [
    "# Keeping columns that are not unique identifiers, other than 'id'\n",
    "to_keep = ['id', 'amount_tsh', 'population', 'public_meeting', 'construction_year', 'extraction_type_class', \n",
    "           'quantity_group', 'source_type', 'source_class', 'waterpoint_type', 'status_group']\n",
    "\n",
    "tww_df_keep = tww_data[to_keep]"
   ]
  },
  {
   "cell_type": "markdown",
   "metadata": {},
   "source": [
    "The 'status_group' column has a 'functional needs repair' value, while the pump can still be considered as 'functional' it is in need of repairs so I replaced all 'functional needs repair' with 'non functional'. In doing so the model will only have two possible results 'functional' or 'non functional'. Changing these values will also help slightly balance out the data. As it is currently, the data is heavily weighted towards 'functional' and that can shift results more towards a ‘functional’ result when in fact the pump could be broken."
   ]
  },
  {
   "cell_type": "code",
   "execution_count": 6,
   "metadata": {
    "scrolled": true
   },
   "outputs": [],
   "source": [
    "# Replacing 'functional needs repair' with 'non functional'\n",
    "tww_df = tww_df_keep.copy()\n",
    "tww_df['status_group'] = tww_df['status_group'].replace('functional needs repair', 'non functional')"
   ]
  },
  {
   "cell_type": "markdown",
   "metadata": {},
   "source": [
    "I also drop rows with a value of 0 in the 'construction_year' column of the data set as well as the 'population' column as this tells me that this specific water pump is yet to be fully constructed, and if the population of where the pump is 0 then that also tells me there is no one around to use the pump and wouldn’t be as high as a priority as compared to a pump with a population of 100+. I also drop rows from the data set where the quantity_group value is 'dry' as a depleted water source won’t see its pump get any use."
   ]
  },
  {
   "cell_type": "code",
   "execution_count": 7,
   "metadata": {},
   "outputs": [],
   "source": [
    "# Dropping rows with 0 in 'construction_year' and 'population'\n",
    "tww_df = tww_df[(tww_df['construction_year'] > 0)]\n",
    "tww_df = tww_df[(tww_df['population'] > 0)]"
   ]
  },
  {
   "cell_type": "code",
   "execution_count": 8,
   "metadata": {},
   "outputs": [],
   "source": [
    "# Dropping rows where the quantity_group = 'dry'\n",
    "tww_df = tww_df[~(tww_df['quantity_group'] == 'dry')]"
   ]
  },
  {
   "cell_type": "markdown",
   "metadata": {},
   "source": [
    "In the 'public_meeting' column, there are quite a few NaN values. In order to keep as much of this data as possible, I filled in NaN values for 'public_meeting' based on the 'waterpoint_type' values, if it is a communal standpipe (singular or multiple) in the 'waterpoint_type' column then NaN was replaced with True, any other values such as 'hand pump' 'cattle trough', etc. were replaced with False."
   ]
  },
  {
   "cell_type": "code",
   "execution_count": 9,
   "metadata": {},
   "outputs": [],
   "source": [
    "tww_df.loc[tww_df['waterpoint_type'] == 'communal standpipe', 'public_meeting'] = True\n",
    "tww_df.loc[tww_df['waterpoint_type'] == 'communal standpipe multiple', 'public_meeting'] = True\n",
    "tww_df['public_meeting'] = tww_df['public_meeting'].fillna(False)"
   ]
  },
  {
   "cell_type": "code",
   "execution_count": 10,
   "metadata": {
    "scrolled": false
   },
   "outputs": [
    {
     "data": {
      "text/html": [
       "<div>\n",
       "<style scoped>\n",
       "    .dataframe tbody tr th:only-of-type {\n",
       "        vertical-align: middle;\n",
       "    }\n",
       "\n",
       "    .dataframe tbody tr th {\n",
       "        vertical-align: top;\n",
       "    }\n",
       "\n",
       "    .dataframe thead th {\n",
       "        text-align: right;\n",
       "    }\n",
       "</style>\n",
       "<table border=\"1\" class=\"dataframe\">\n",
       "  <thead>\n",
       "    <tr style=\"text-align: right;\">\n",
       "      <th></th>\n",
       "      <th>id</th>\n",
       "      <th>amount_tsh</th>\n",
       "      <th>population</th>\n",
       "      <th>public_meeting</th>\n",
       "      <th>construction_year</th>\n",
       "      <th>extraction_type_class</th>\n",
       "      <th>quantity_group</th>\n",
       "      <th>source_type</th>\n",
       "      <th>source_class</th>\n",
       "      <th>waterpoint_type</th>\n",
       "      <th>status_group</th>\n",
       "    </tr>\n",
       "  </thead>\n",
       "  <tbody>\n",
       "    <tr>\n",
       "      <th>0</th>\n",
       "      <td>69572</td>\n",
       "      <td>6000.0</td>\n",
       "      <td>109</td>\n",
       "      <td>True</td>\n",
       "      <td>1999</td>\n",
       "      <td>gravity</td>\n",
       "      <td>enough</td>\n",
       "      <td>spring</td>\n",
       "      <td>groundwater</td>\n",
       "      <td>communal standpipe</td>\n",
       "      <td>functional</td>\n",
       "    </tr>\n",
       "    <tr>\n",
       "      <th>1</th>\n",
       "      <td>8776</td>\n",
       "      <td>0.0</td>\n",
       "      <td>280</td>\n",
       "      <td>True</td>\n",
       "      <td>2010</td>\n",
       "      <td>gravity</td>\n",
       "      <td>insufficient</td>\n",
       "      <td>rainwater harvesting</td>\n",
       "      <td>surface</td>\n",
       "      <td>communal standpipe</td>\n",
       "      <td>functional</td>\n",
       "    </tr>\n",
       "    <tr>\n",
       "      <th>2</th>\n",
       "      <td>34310</td>\n",
       "      <td>25.0</td>\n",
       "      <td>250</td>\n",
       "      <td>True</td>\n",
       "      <td>2009</td>\n",
       "      <td>gravity</td>\n",
       "      <td>enough</td>\n",
       "      <td>dam</td>\n",
       "      <td>surface</td>\n",
       "      <td>communal standpipe multiple</td>\n",
       "      <td>functional</td>\n",
       "    </tr>\n",
       "    <tr>\n",
       "      <th>3</th>\n",
       "      <td>9944</td>\n",
       "      <td>20.0</td>\n",
       "      <td>1</td>\n",
       "      <td>True</td>\n",
       "      <td>2009</td>\n",
       "      <td>submersible</td>\n",
       "      <td>enough</td>\n",
       "      <td>other</td>\n",
       "      <td>unknown</td>\n",
       "      <td>communal standpipe multiple</td>\n",
       "      <td>functional</td>\n",
       "    </tr>\n",
       "    <tr>\n",
       "      <th>4</th>\n",
       "      <td>49056</td>\n",
       "      <td>0.0</td>\n",
       "      <td>345</td>\n",
       "      <td>True</td>\n",
       "      <td>2011</td>\n",
       "      <td>submersible</td>\n",
       "      <td>enough</td>\n",
       "      <td>borehole</td>\n",
       "      <td>groundwater</td>\n",
       "      <td>other</td>\n",
       "      <td>functional</td>\n",
       "    </tr>\n",
       "    <tr>\n",
       "      <th>...</th>\n",
       "      <td>...</td>\n",
       "      <td>...</td>\n",
       "      <td>...</td>\n",
       "      <td>...</td>\n",
       "      <td>...</td>\n",
       "      <td>...</td>\n",
       "      <td>...</td>\n",
       "      <td>...</td>\n",
       "      <td>...</td>\n",
       "      <td>...</td>\n",
       "      <td>...</td>\n",
       "    </tr>\n",
       "    <tr>\n",
       "      <th>34124</th>\n",
       "      <td>44885</td>\n",
       "      <td>0.0</td>\n",
       "      <td>210</td>\n",
       "      <td>True</td>\n",
       "      <td>1967</td>\n",
       "      <td>gravity</td>\n",
       "      <td>enough</td>\n",
       "      <td>river/lake</td>\n",
       "      <td>surface</td>\n",
       "      <td>communal standpipe</td>\n",
       "      <td>non functional</td>\n",
       "    </tr>\n",
       "    <tr>\n",
       "      <th>34125</th>\n",
       "      <td>11164</td>\n",
       "      <td>500.0</td>\n",
       "      <td>89</td>\n",
       "      <td>True</td>\n",
       "      <td>2007</td>\n",
       "      <td>submersible</td>\n",
       "      <td>enough</td>\n",
       "      <td>borehole</td>\n",
       "      <td>groundwater</td>\n",
       "      <td>communal standpipe</td>\n",
       "      <td>non functional</td>\n",
       "    </tr>\n",
       "    <tr>\n",
       "      <th>34126</th>\n",
       "      <td>60739</td>\n",
       "      <td>10.0</td>\n",
       "      <td>125</td>\n",
       "      <td>True</td>\n",
       "      <td>1999</td>\n",
       "      <td>gravity</td>\n",
       "      <td>enough</td>\n",
       "      <td>spring</td>\n",
       "      <td>groundwater</td>\n",
       "      <td>communal standpipe</td>\n",
       "      <td>functional</td>\n",
       "    </tr>\n",
       "    <tr>\n",
       "      <th>34127</th>\n",
       "      <td>27263</td>\n",
       "      <td>4700.0</td>\n",
       "      <td>56</td>\n",
       "      <td>True</td>\n",
       "      <td>1996</td>\n",
       "      <td>gravity</td>\n",
       "      <td>enough</td>\n",
       "      <td>river/lake</td>\n",
       "      <td>surface</td>\n",
       "      <td>communal standpipe</td>\n",
       "      <td>functional</td>\n",
       "    </tr>\n",
       "    <tr>\n",
       "      <th>34128</th>\n",
       "      <td>26348</td>\n",
       "      <td>0.0</td>\n",
       "      <td>150</td>\n",
       "      <td>True</td>\n",
       "      <td>2002</td>\n",
       "      <td>handpump</td>\n",
       "      <td>enough</td>\n",
       "      <td>shallow well</td>\n",
       "      <td>groundwater</td>\n",
       "      <td>hand pump</td>\n",
       "      <td>functional</td>\n",
       "    </tr>\n",
       "  </tbody>\n",
       "</table>\n",
       "<p>34129 rows × 11 columns</p>\n",
       "</div>"
      ],
      "text/plain": [
       "          id  amount_tsh  population  public_meeting  construction_year  \\\n",
       "0      69572      6000.0         109            True               1999   \n",
       "1       8776         0.0         280            True               2010   \n",
       "2      34310        25.0         250            True               2009   \n",
       "3       9944        20.0           1            True               2009   \n",
       "4      49056         0.0         345            True               2011   \n",
       "...      ...         ...         ...             ...                ...   \n",
       "34124  44885         0.0         210            True               1967   \n",
       "34125  11164       500.0          89            True               2007   \n",
       "34126  60739        10.0         125            True               1999   \n",
       "34127  27263      4700.0          56            True               1996   \n",
       "34128  26348         0.0         150            True               2002   \n",
       "\n",
       "      extraction_type_class quantity_group           source_type source_class  \\\n",
       "0                   gravity         enough                spring  groundwater   \n",
       "1                   gravity   insufficient  rainwater harvesting      surface   \n",
       "2                   gravity         enough                   dam      surface   \n",
       "3               submersible         enough                 other      unknown   \n",
       "4               submersible         enough              borehole  groundwater   \n",
       "...                     ...            ...                   ...          ...   \n",
       "34124               gravity         enough            river/lake      surface   \n",
       "34125           submersible         enough              borehole  groundwater   \n",
       "34126               gravity         enough                spring  groundwater   \n",
       "34127               gravity         enough            river/lake      surface   \n",
       "34128              handpump         enough          shallow well  groundwater   \n",
       "\n",
       "                   waterpoint_type    status_group  \n",
       "0               communal standpipe      functional  \n",
       "1               communal standpipe      functional  \n",
       "2      communal standpipe multiple      functional  \n",
       "3      communal standpipe multiple      functional  \n",
       "4                            other      functional  \n",
       "...                            ...             ...  \n",
       "34124           communal standpipe  non functional  \n",
       "34125           communal standpipe  non functional  \n",
       "34126           communal standpipe      functional  \n",
       "34127           communal standpipe      functional  \n",
       "34128                    hand pump      functional  \n",
       "\n",
       "[34129 rows x 11 columns]"
      ]
     },
     "execution_count": 10,
     "metadata": {},
     "output_type": "execute_result"
    }
   ],
   "source": [
    "tww_df.reset_index(drop=True)"
   ]
  },
  {
   "cell_type": "markdown",
   "metadata": {},
   "source": [
    "# Modeling"
   ]
  },
  {
   "cell_type": "markdown",
   "metadata": {},
   "source": [
    "### K-Nearest Neighbors (KNN)\n",
    "The model used for this project is K-Nearest Neighbors (KNN). I went with this classifier as its non-parametric, meaning it doesn’t make assumptions based on how the data is distributed. KNN also adapts easily to new examples or data points. Because data is stored in memory, when there is new data present, it will adjust and incorporate the new information into future predictions."
   ]
  },
  {
   "cell_type": "code",
   "execution_count": 11,
   "metadata": {},
   "outputs": [],
   "source": [
    "# Importing needed tools and modules\n",
    "from sklearn.model_selection import train_test_split, cross_val_score\n",
    "from sklearn.preprocessing import MinMaxScaler, OneHotEncoder\n",
    "from sklearn.neighbors import KNeighborsClassifier, NearestNeighbors\n",
    "from sklearn.metrics import precision_score, recall_score, f1_score, classification_report\n",
    "from sklearn.metrics import plot_confusion_matrix, plot_roc_curve\n",
    "\n",
    "from imblearn.over_sampling import SMOTE"
   ]
  },
  {
   "cell_type": "code",
   "execution_count": 12,
   "metadata": {},
   "outputs": [],
   "source": [
    "# Train test splitting data\n",
    "X = tww_df.drop(['id', 'status_group'], axis=1)\n",
    "y = tww_df['status_group']\n",
    "\n",
    "X_train, X_test, y_train, y_test = train_test_split(X, y, test_size=0.3, random_state=42)"
   ]
  },
  {
   "cell_type": "markdown",
   "metadata": {},
   "source": [
    "Our data is full of categorical values, in order to be able to use this data with a kNN classifier I first turn the categorical data into numerical values. The following functions taken from the Classification Workflow lecture by Flatiron School, will encode categorical data and return a dataframe with the numerical values. "
   ]
  },
  {
   "cell_type": "code",
   "execution_count": 13,
   "metadata": {},
   "outputs": [],
   "source": [
    "# Both encode_and_concat_feature_train, and encode_and_concat_feature taken from Flatiron School lecture\n",
    "def encode_and_concat_feature_train(X_train, feature_name):\n",
    "    \"\"\"\n",
    "    Helper function for transforming training data. It takes in the full X dataframe and\n",
    "    feature name, makes a one-hot encoder, and returns the encoder as well as the dataframe\n",
    "    with that feature transformed into multiple columns of 1s and 0s\n",
    "    \"\"\"\n",
    "    # make a one-hot encoder and fit it to the training data\n",
    "    ohe = OneHotEncoder(categories=\"auto\", handle_unknown=\"ignore\")\n",
    "    single_feature_df = X_train[[feature_name]]\n",
    "    ohe.fit(single_feature_df)\n",
    "    \n",
    "    # call helper function that actually encodes the feature and concats it\n",
    "    X_train = encode_and_concat_feature(X_train, feature_name, ohe)\n",
    "    \n",
    "    return ohe, X_train\n",
    "\n",
    "def encode_and_concat_feature(X, feature_name, ohe):\n",
    "    \"\"\"\n",
    "    Helper function for transforming a feature into multiple columns of 1s and 0s. Used\n",
    "    in both training and testing steps. It Takes in the full X dataframe, feature name, \n",
    "    and encoder, and returns the dataframe with that feature transformed into multiple\n",
    "    columns of 1s and 0s\n",
    "    \"\"\"\n",
    "    # create new one-hot encoded df based on the feature\n",
    "    single_feature_df = X[[feature_name]]\n",
    "    feature_array = ohe.transform(single_feature_df).toarray()\n",
    "    ohe_df = pd.DataFrame(feature_array, columns=ohe.categories_[0], index=X.index)\n",
    "    \n",
    "    # drop the old feature from X and concat the new one-hot encoded df\n",
    "    X = X.drop(feature_name, axis=1)\n",
    "    X = pd.concat([X, ohe_df], axis=1)\n",
    "    \n",
    "    return X\n",
    "\n",
    "encoders = {}\n"
   ]
  },
  {
   "cell_type": "code",
   "execution_count": 14,
   "metadata": {},
   "outputs": [],
   "source": [
    "# Onehotencoding categorical data\n",
    "categorical_feature_names = ['public_meeting', 'extraction_type_class', 'quantity_group', 'source_type', 'source_class',\n",
    "                             'waterpoint_type']\n",
    "\n",
    "for categorical_feature in categorical_feature_names:\n",
    "    ohe, X_train = encode_and_concat_feature_train(X_train, categorical_feature)\n",
    "    encoders[categorical_feature] = ohe"
   ]
  },
  {
   "cell_type": "code",
   "execution_count": 15,
   "metadata": {},
   "outputs": [],
   "source": [
    "# Function to quickly get classification scores\n",
    "def model_eval(y_true, pred):\n",
    "    '''\n",
    "    A simple function that takes in train or test data, and prints out its Precision, Recall, and F1-Score.\n",
    "    \n",
    "    Arguments:\n",
    "    y_true: y_train or y_test data\n",
    "    pred: data that has gone through the .predict() function\n",
    "    '''\n",
    "    print('Precision Score: ', precision_score(y_true, pred, average='macro'))\n",
    "    print('Recall Score: ', recall_score(y_true, pred, average='macro'))\n",
    "    print('F1-Score: ', f1_score(y_true, pred, average='macro'))"
   ]
  },
  {
   "cell_type": "markdown",
   "metadata": {},
   "source": [
    "Since our current data is heavily weighted towards the 'functional' status, this can easily cause biases in the model's prediction result. To help lower the model bias as much as possible I use Synthetic Minority Over-sampling Technique (SMOTE) to generate synthetic data based off of the data already present to make the data as even as possible. Since KNN is a distance-based machine learning algorithm, I scale the data with a Min Max scaler. I went with a min max scaler to ensure all features are taken into consideration equally and lower the potential of a model bias."
   ]
  },
  {
   "cell_type": "code",
   "execution_count": 16,
   "metadata": {},
   "outputs": [],
   "source": [
    "# Balancing Train data\n",
    "smote = SMOTE()\n",
    "X_train_resamp, y_train_resamp = smote.fit_resample(X_train, y_train)"
   ]
  },
  {
   "cell_type": "code",
   "execution_count": 17,
   "metadata": {},
   "outputs": [],
   "source": [
    "# Scaling data\n",
    "mm_scaler = MinMaxScaler()"
   ]
  },
  {
   "cell_type": "code",
   "execution_count": 18,
   "metadata": {},
   "outputs": [
    {
     "data": {
      "text/plain": [
       "MinMaxScaler()"
      ]
     },
     "execution_count": 18,
     "metadata": {},
     "output_type": "execute_result"
    }
   ],
   "source": [
    "mm_scaler.fit(X_train_resamp)"
   ]
  },
  {
   "cell_type": "code",
   "execution_count": 19,
   "metadata": {},
   "outputs": [],
   "source": [
    "# Turning our scaled data in a dataframe\n",
    "X_train_mm_scaled = pd.DataFrame(\n",
    "    mm_scaler.transform(X_train_resamp),\n",
    "    index=X_train_resamp.index,\n",
    "    columns=X_train_resamp.columns\n",
    ")"
   ]
  },
  {
   "cell_type": "markdown",
   "metadata": {},
   "source": [
    "### KNN Model 1"
   ]
  },
  {
   "cell_type": "code",
   "execution_count": 20,
   "metadata": {},
   "outputs": [
    {
     "data": {
      "text/plain": [
       "KNeighborsClassifier(n_jobs=4)"
      ]
     },
     "execution_count": 20,
     "metadata": {},
     "output_type": "execute_result"
    }
   ],
   "source": [
    "knn_1 = KNeighborsClassifier(n_jobs=4)\n",
    "knn_1.fit(X_train_mm_scaled, y_train_resamp)"
   ]
  },
  {
   "cell_type": "code",
   "execution_count": 21,
   "metadata": {},
   "outputs": [],
   "source": [
    "y_pred_knn_1 = knn_1.predict(X_train_mm_scaled)"
   ]
  },
  {
   "cell_type": "code",
   "execution_count": 22,
   "metadata": {},
   "outputs": [
    {
     "name": "stdout",
     "output_type": "stream",
     "text": [
      "Precision Score:  0.8356378227310999\n",
      "Recall Score:  0.8346358669340894\n",
      "F1-Score:  0.8345123623059669\n"
     ]
    }
   ],
   "source": [
    "# Checking model scores\n",
    "model_eval(y_train_resamp, y_pred_knn_1)"
   ]
  },
  {
   "cell_type": "code",
   "execution_count": 23,
   "metadata": {},
   "outputs": [
    {
     "name": "stdout",
     "output_type": "stream",
     "text": [
      "[0.718361   0.72838866 0.71715076 0.80753934 0.82569601]\n"
     ]
    }
   ],
   "source": [
    "# Cross Validation\n",
    "print(cross_val_score(knn_1, X_train_mm_scaled, y_train_resamp,))"
   ]
  },
  {
   "cell_type": "markdown",
   "metadata": {},
   "source": [
    "### KNN Model 2"
   ]
  },
  {
   "cell_type": "code",
   "execution_count": 88,
   "metadata": {},
   "outputs": [
    {
     "data": {
      "text/plain": [
       "KNeighborsClassifier(algorithm='ball_tree', metric='l1', n_jobs=4,\n",
       "                     n_neighbors=9)"
      ]
     },
     "execution_count": 88,
     "metadata": {},
     "output_type": "execute_result"
    }
   ],
   "source": [
    "# KNN model 2\n",
    "knn_2 = KNeighborsClassifier(n_neighbors=9, algorithm='ball_tree', n_jobs=4, metric='l1')\n",
    "knn_2.fit(X_train_mm_scaled, y_train_resamp)"
   ]
  },
  {
   "cell_type": "code",
   "execution_count": 89,
   "metadata": {},
   "outputs": [],
   "source": [
    "y_pred_knn_2 = knn_2.predict(X_train_mm_scaled)"
   ]
  },
  {
   "cell_type": "code",
   "execution_count": 90,
   "metadata": {},
   "outputs": [
    {
     "name": "stdout",
     "output_type": "stream",
     "text": [
      "Precision Score:  0.8120687239441204\n",
      "Recall Score:  0.809668718445259\n",
      "F1-Score:  0.8093020715805527\n"
     ]
    }
   ],
   "source": [
    "# Checking model scores\n",
    "model_eval(y_train_resamp, y_pred_knn_2)"
   ]
  },
  {
   "cell_type": "code",
   "execution_count": 91,
   "metadata": {},
   "outputs": [
    {
     "name": "stdout",
     "output_type": "stream",
     "text": [
      "[0.71801521 0.7238935  0.72130014 0.79906623 0.8071935 ]\n"
     ]
    }
   ],
   "source": [
    "# Cross Validation\n",
    "print(cross_val_score(knn_2, X_train_mm_scaled, y_train_resamp,))"
   ]
  },
  {
   "cell_type": "markdown",
   "metadata": {},
   "source": [
    "### KNN Model 3"
   ]
  },
  {
   "cell_type": "code",
   "execution_count": 100,
   "metadata": {},
   "outputs": [
    {
     "data": {
      "text/plain": [
       "KNeighborsClassifier(algorithm='kd_tree', leaf_size=20, n_jobs=4,\n",
       "                     n_neighbors=17)"
      ]
     },
     "execution_count": 100,
     "metadata": {},
     "output_type": "execute_result"
    }
   ],
   "source": [
    "# KNN model 3\n",
    "knn_3 = KNeighborsClassifier(n_neighbors=17, weights='uniform', n_jobs=4, algorithm='kd_tree', leaf_size=20, metric='minkowski')\n",
    "knn_3.fit(X_train_mm_scaled, y_train_resamp)"
   ]
  },
  {
   "cell_type": "code",
   "execution_count": 101,
   "metadata": {},
   "outputs": [],
   "source": [
    "y_pred_knn_3 = knn_3.predict(X_train_mm_scaled)"
   ]
  },
  {
   "cell_type": "code",
   "execution_count": 102,
   "metadata": {},
   "outputs": [
    {
     "name": "stdout",
     "output_type": "stream",
     "text": [
      "Precision Score:  0.7870163852906016\n",
      "Recall Score:  0.7842520229614773\n",
      "F1-Score:  0.7837312817002855\n"
     ]
    }
   ],
   "source": [
    "# Checking model scores\n",
    "model_eval(y_train_resamp, y_pred_knn_3)"
   ]
  },
  {
   "cell_type": "code",
   "execution_count": 103,
   "metadata": {},
   "outputs": [
    {
     "name": "stdout",
     "output_type": "stream",
     "text": [
      "[0.72095436 0.71196404 0.72026279 0.79145772 0.81013315]\n"
     ]
    }
   ],
   "source": [
    "# Cross Validation\n",
    "print(cross_val_score(knn_3, X_train_mm_scaled, y_train_resamp))"
   ]
  },
  {
   "cell_type": "markdown",
   "metadata": {},
   "source": [
    "### Confusion Matrix Plots"
   ]
  },
  {
   "cell_type": "code",
   "execution_count": 104,
   "metadata": {},
   "outputs": [
    {
     "data": {
      "image/png": "[encoded data removed]",
      "text/plain": [
       "<Figure size 1440x360 with 6 Axes>"
      ]
     },
     "metadata": {
      "needs_background": "light"
     },
     "output_type": "display_data"
    }
   ],
   "source": [
    "fix, axes = plt.subplots(nrows=1, ncols=3, figsize=(20, 5))\n",
    "\n",
    "axes[0].set_title('Model 1')\n",
    "axes[1].set_title('Model 2')\n",
    "axes[2].set_title('Model 3')\n",
    "\n",
    "plot_confusion_matrix(knn_1, X_train_mm_scaled, y_train_resamp,\n",
    "                      ax=axes[0], cmap='Blues')\n",
    "plot_confusion_matrix(knn_2, X_train_mm_scaled, y_train_resamp,\n",
    "                      ax=axes[1], cmap='Blues')\n",
    "plot_confusion_matrix(knn_3, X_train_mm_scaled, y_train_resamp,\n",
    "                      ax=axes[2], cmap='Blues')\n",
    "plt.tight_layout();"
   ]
  },
  {
   "cell_type": "markdown",
   "metadata": {},
   "source": [
    "### Receiver Operating Characteristic Curve Plot"
   ]
  },
  {
   "cell_type": "code",
   "execution_count": 105,
   "metadata": {
    "scrolled": false
   },
   "outputs": [
    {
     "data": {
      "image/png": "[encoded data removed]",
      "text/plain": [
       "<Figure size 720x720 with 1 Axes>"
      ]
     },
     "metadata": {
      "needs_background": "light"
     },
     "output_type": "display_data"
    }
   ],
   "source": [
    "fig, ax = plt.subplots(figsize=(10, 10))\n",
    "\n",
    "plot_roc_curve(knn_1, X_train_mm_scaled, y_train_resamp, \n",
    "               name='model 1', ax=ax)\n",
    "plot_roc_curve(knn_2, X_train_mm_scaled, y_train_resamp, \n",
    "               name='model 2', ax=ax)\n",
    "plot_roc_curve(knn_3, X_train_mm_scaled, y_train_resamp, \n",
    "               name='model 3', ax=ax);"
   ]
  },
  {
   "cell_type": "code",
   "execution_count": null,
   "metadata": {},
   "outputs": [],
   "source": []
  },
  {
   "cell_type": "markdown",
   "metadata": {},
   "source": [
    "### KNN Final Model"
   ]
  },
  {
   "cell_type": "code",
   "execution_count": null,
   "metadata": {},
   "outputs": [],
   "source": []
  },
  {
   "cell_type": "code",
   "execution_count": 34,
   "metadata": {},
   "outputs": [],
   "source": [
    "# Preparing Test data for model use\n",
    "for categorical_feature in categorical_feature_names:\n",
    "    ohe, X_test = encode_and_concat_feature_train(X_test, categorical_feature)\n",
    "    encoders[categorical_feature] = ohe"
   ]
  },
  {
   "cell_type": "code",
   "execution_count": 35,
   "metadata": {},
   "outputs": [],
   "source": [
    "# Balancing Test data\n",
    "X_test_resamp, y_test_resamp = smote.fit_resample(X_test, y_test)"
   ]
  },
  {
   "cell_type": "code",
   "execution_count": 36,
   "metadata": {},
   "outputs": [
    {
     "data": {
      "text/plain": [
       "MinMaxScaler()"
      ]
     },
     "execution_count": 36,
     "metadata": {},
     "output_type": "execute_result"
    }
   ],
   "source": [
    "# Fitting resampled data to scaler\n",
    "mm_scaler.fit(X_test_resamp)"
   ]
  },
  {
   "cell_type": "code",
   "execution_count": 37,
   "metadata": {},
   "outputs": [],
   "source": [
    "# Turning scaled data back into dataframe\n",
    "X_test_mm_scaled = pd.DataFrame(\n",
    "    mm_scaler.transform(X_test_resamp),\n",
    "    index=X_test_resamp.index,\n",
    "   columns=X_test_resamp.columns\n",
    ")"
   ]
  },
  {
   "cell_type": "code",
   "execution_count": 106,
   "metadata": {},
   "outputs": [
    {
     "data": {
      "text/plain": [
       "KNeighborsClassifier(algorithm='ball_tree', metric='l1', n_jobs=4,\n",
       "                     n_neighbors=9)"
      ]
     },
     "execution_count": 106,
     "metadata": {},
     "output_type": "execute_result"
    }
   ],
   "source": [
    "# Final model\n",
    "knn_final = KNeighborsClassifier(n_neighbors=9, algorithm='ball_tree', n_jobs=4, metric='l1')\n",
    "knn_final.fit(X_test_mm_scaled, y_test_resamp)"
   ]
  },
  {
   "cell_type": "code",
   "execution_count": 107,
   "metadata": {},
   "outputs": [],
   "source": [
    "y_pred_knn_final = knn_final.predict(X_test_mm_scaled)"
   ]
  },
  {
   "cell_type": "code",
   "execution_count": 108,
   "metadata": {},
   "outputs": [
    {
     "name": "stdout",
     "output_type": "stream",
     "text": [
      "Precision Score:  0.7996600070416179\n",
      "Recall Score:  0.796895213454075\n",
      "F1-Score:  0.7964256470685489\n"
     ]
    }
   ],
   "source": [
    "model_eval(y_test_resamp, y_pred_knn_final)"
   ]
  },
  {
   "cell_type": "code",
   "execution_count": 109,
   "metadata": {},
   "outputs": [
    {
     "name": "stdout",
     "output_type": "stream",
     "text": [
      "[0.69886823 0.69442199 0.7069523  0.77355439 0.79822078]\n"
     ]
    }
   ],
   "source": [
    "print(cross_val_score(knn_final, X_test_mm_scaled, y_test_resamp,))"
   ]
  },
  {
   "cell_type": "code",
   "execution_count": 110,
   "metadata": {},
   "outputs": [
    {
     "data": {
      "image/png": "[encoded data removed]",
      "text/plain": [
       "<Figure size 1080x720 with 8 Axes>"
      ]
     },
     "metadata": {
      "needs_background": "light"
     },
     "output_type": "display_data"
    }
   ],
   "source": [
    "fix, axes = plt.subplots(nrows=2, ncols=2, figsize=(15, 10))\n",
    "\n",
    "axes[0, 0].set_title(\"Model 1\")\n",
    "axes[0, 1].set_title(\"Model 2\")\n",
    "axes[1, 0].set_title(\"Model 3\")\n",
    "axes[1, 1].set_title(\"Final Model\")\n",
    "\n",
    "plot_confusion_matrix(knn_1, X_train_mm_scaled, y_train_resamp,\n",
    "                      ax=axes[0, 0], cmap='Blues')\n",
    "plot_confusion_matrix(knn_2, X_train_mm_scaled, y_train_resamp,\n",
    "                      ax=axes[0, 1], cmap='Blues')\n",
    "plot_confusion_matrix(knn_3, X_train_mm_scaled, y_train_resamp,\n",
    "                      ax=axes[1, 0], cmap='Blues')\n",
    "plot_confusion_matrix(knn_final, X_test_mm_scaled, y_test_resamp,\n",
    "                      ax=axes[1, 1], cmap='Blues')\n",
    "plt.tight_layout();"
   ]
  },
  {
   "cell_type": "code",
   "execution_count": 111,
   "metadata": {},
   "outputs": [
    {
     "data": {
      "image/png": "[encoded data removed]",
      "text/plain": [
       "<Figure size 720x720 with 1 Axes>"
      ]
     },
     "metadata": {
      "needs_background": "light"
     },
     "output_type": "display_data"
    }
   ],
   "source": [
    "fig, ax = plt.subplots(figsize=(10, 10))\n",
    "\n",
    "plot_roc_curve(knn_1, X_train_mm_scaled, y_train_resamp, \n",
    "               name='model 1', ax=ax)\n",
    "plot_roc_curve(knn_2, X_train_mm_scaled, y_train_resamp, \n",
    "               name='model 2', ax=ax)\n",
    "plot_roc_curve(knn_3, X_train_mm_scaled, y_train_resamp, \n",
    "               name='model 3', ax=ax)\n",
    "plot_roc_curve(knn_final, X_test_mm_scaled, y_test_resamp, \n",
    "               name='Final model', ax=ax);"
   ]
  },
  {
   "cell_type": "markdown",
   "metadata": {},
   "source": [
    "# Evaluation"
   ]
  },
  {
   "cell_type": "code",
   "execution_count": null,
   "metadata": {},
   "outputs": [],
   "source": []
  },
  {
   "cell_type": "markdown",
   "metadata": {},
   "source": [
    "# Conclusion"
   ]
  },
  {
   "cell_type": "code",
   "execution_count": null,
   "metadata": {},
   "outputs": [],
   "source": []
  },
  {
   "cell_type": "markdown",
   "metadata": {},
   "source": [
    "## Limitation"
   ]
  },
  {
   "cell_type": "code",
   "execution_count": null,
   "metadata": {},
   "outputs": [],
   "source": []
  },
  {
   "cell_type": "markdown",
   "metadata": {},
   "source": [
    "## Recomendations"
   ]
  },
  {
   "cell_type": "code",
   "execution_count": null,
   "metadata": {},
   "outputs": [],
   "source": []
  },
  {
   "cell_type": "markdown",
   "metadata": {},
   "source": [
    "## Next Steps"
   ]
  },
  {
   "cell_type": "code",
   "execution_count": null,
   "metadata": {},
   "outputs": [],
   "source": []
  }
 ],
 "metadata": {
  "kernelspec": {
   "display_name": "Python [conda env:learn-env2] *",
   "language": "python",
   "name": "conda-env-learn-env2-py"
  },
  "language_info": {
   "codemirror_mode": {
    "name": "ipython",
    "version": 3
   },
   "file_extension": ".py",
   "mimetype": "text/x-python",
   "name": "python",
   "nbconvert_exporter": "python",
   "pygments_lexer": "ipython3",
   "version": "3.8.5"
  }
 },
 "nbformat": 4,
 "nbformat_minor": 4
}
