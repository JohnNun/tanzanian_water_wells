{
 "cells": [
  {
   "cell_type": "markdown",
   "metadata": {},
   "source": [
    "# Tanzanian Water Wells\n",
    "By Jonathan Nunez"
   ]
  },
  {
   "cell_type": "markdown",
   "metadata": {},
   "source": [
    "# Business Understanding\n",
    "As a developing country, Tanzania struggles with providing clean water to its population of over 57,000,000. As it is now, there are many water points that have already been built throughout the country, but some need repair while others have failed altogether. The government of Tanzania may not have the necessary resources to be able to effectively and efficiently check and repair all pumps, and wells at the same time. By using a predictive classifier model the Tanzania government hopes to be able to predict which pumps or wells may need repairs to effectively send out technicians to complete said repairs.\n",
    "\n",
    "By using information about the sort of pump, year of installation, etc. I am to build a prediction classifier to predict the condition of a water well or pump as either 'functional' or 'non-functional'. Through the predictions of the model, the government of Tanzania may be able to effectively and efficiently allocate the necessary resources to locations that are in desperate need of repairs."
   ]
  },
  {
   "cell_type": "markdown",
   "metadata": {},
   "source": [
    "# Data Understanding\n",
    "The data used for this project was gathered from [Taarifa](https://taarifa.org/) and [Tanzanian Ministry of Water](https://www.maji.go.tz/). The information that can be found in this data set ranges from the year the pump, water well, etc. was first constructed, to who funded the construction of that specific water source. This dataset also provides an abundance of categorical data, for example longitude/latitude, type of water, etc. In total this dataset holds information on over 50,000 plus water sources ranging from first constructed in 1966 up to 2010, and even water sources that are yet to be fully constructed. Since I am trying to predict which pumps and wells are in need of repairs to provide clean water to its population, I will be primarily focusing on rows and columns for pumps and water wells that have a civilian population who heavily rely on these pumps and wells for water. "
   ]
  },
  {
   "cell_type": "markdown",
   "metadata": {},
   "source": [
    "# Data Preparation"
   ]
  },
  {
   "cell_type": "code",
   "execution_count": 1,
   "metadata": {},
   "outputs": [],
   "source": [
    "# Importing tools and modules\n",
    "import pandas as pd\n",
    "import numpy as np\n",
    "import math\n",
    "\n",
    "import matplotlib.pyplot as plt\n",
    "%matplotlib inline"
   ]
  },
  {
   "cell_type": "code",
   "execution_count": 2,
   "metadata": {
    "scrolled": false
   },
   "outputs": [],
   "source": [
    "# Loading data\n",
    "tww_data = pd.read_csv('data/training_set_values.csv')\n",
    "tww_labels = pd.read_csv('data/training_set_labels.csv')"
   ]
  },
  {
   "cell_type": "markdown",
   "metadata": {},
   "source": [
    "Dropping the 'id' column from the labels data frame as this data frame is sorted in the exact same way as the overall data making it easier to combine both data frames. I also drop columns that are unique identifiers, such as longitude and latitude as data like this doesn't really help with the prediction. There are also columns with different titles but have the same information as a different column minimal variation. For example, the 'quantity' and 'quantity_group', both have the exact information on the how much water remains in the specific water source, so I kept the group column and dropped the other."
   ]
  },
  {
   "cell_type": "code",
   "execution_count": 3,
   "metadata": {},
   "outputs": [],
   "source": [
    "# Dropping 'id' column\n",
    "tww_labels = tww_labels.drop(columns='id')"
   ]
  },
  {
   "cell_type": "code",
   "execution_count": 4,
   "metadata": {},
   "outputs": [],
   "source": [
    "# Combining the lables data set with overall data\n",
    "tww_data = pd.concat([tww_data, tww_labels], axis=1)"
   ]
  },
  {
   "cell_type": "code",
   "execution_count": 5,
   "metadata": {
    "scrolled": false
   },
   "outputs": [],
   "source": [
    "# Keeping columns that are not unique identifiers, other than 'id'\n",
    "to_keep = ['id', 'amount_tsh', 'population', 'public_meeting', 'construction_year', 'extraction_type_class', \n",
    "           'quantity_group', 'source_type', 'source_class', 'waterpoint_type', 'status_group']\n",
    "\n",
    "tww_df_keep = tww_data[to_keep]"
   ]
  },
  {
   "cell_type": "markdown",
   "metadata": {},
   "source": [
    "The 'status_group' column has a 'functional needs repair' value, while the pump can still be considered as 'functional' it is in need of repairs so I replaced all 'functional needs repair' with 'non functional'. In doing so the model will only have two possible results 'functional' or 'non functional'. Changing these values will also help slightly balance out the data. As it is currently, the data is heavily weighted towards 'functional' and that can shift results more towards a ‘functional’ result when in fact the pump could be broken."
   ]
  },
  {
   "cell_type": "code",
   "execution_count": 6,
   "metadata": {
    "scrolled": true
   },
   "outputs": [],
   "source": [
    "# Replacing 'functional needs repair' with 'non functional'\n",
    "tww_df = tww_df_keep.copy()\n",
    "tww_df['status_group'] = tww_df['status_group'].replace('functional needs repair', 'non functional')"
   ]
  },
  {
   "cell_type": "markdown",
   "metadata": {},
   "source": [
    "I also drop rows with a value of 0 in the 'construction_year' column of the data set as well as the 'population' column as this tells me that this specific water pump is yet to be fully constructed, and if the population of where the pump is 0 then that also tells me there is no one around to use the pump and wouldn’t be as high as a priority as compared to a pump with a population of 100+. I also drop rows from the data set where the quantity_group value is 'dry' as a depleted water source won’t see its pump get any use."
   ]
  },
  {
   "cell_type": "code",
   "execution_count": 7,
   "metadata": {},
   "outputs": [],
   "source": [
    "# Dropping rows with 0 in 'construction_year' and 'population'\n",
    "tww_df = tww_df[(tww_df['construction_year'] > 0)]\n",
    "tww_df = tww_df[(tww_df['population'] > 0)]"
   ]
  },
  {
   "cell_type": "code",
   "execution_count": 8,
   "metadata": {},
   "outputs": [],
   "source": [
    "# Dropping rows where the quantity_group = 'dry'\n",
    "tww_df = tww_df[~(tww_df['quantity_group'] == 'dry')]"
   ]
  },
  {
   "cell_type": "markdown",
   "metadata": {},
   "source": [
    "In the 'public_meeting' column, there are quite a few NaN values. In order to keep as much of this data as possible, I filled in NaN values for 'public_meeting' based on the 'waterpoint_type' values, if it is a communal standpipe (singular or multiple) in the 'waterpoint_type' column then NaN was replaced with True, any other values such as 'hand pump' 'cattle trough', etc. were replaced with False."
   ]
  },
  {
   "cell_type": "code",
   "execution_count": 9,
   "metadata": {},
   "outputs": [],
   "source": [
    "tww_df.loc[tww_df['waterpoint_type'] == 'communal standpipe', 'public_meeting'] = True\n",
    "tww_df.loc[tww_df['waterpoint_type'] == 'communal standpipe multiple', 'public_meeting'] = True\n",
    "tww_df['public_meeting'] = tww_df['public_meeting'].fillna(False)"
   ]
  },
  {
   "cell_type": "code",
   "execution_count": 10,
   "metadata": {
    "scrolled": false
   },
   "outputs": [
    {
     "data": {
      "text/html": [
       "<div>\n",
       "<style scoped>\n",
       "    .dataframe tbody tr th:only-of-type {\n",
       "        vertical-align: middle;\n",
       "    }\n",
       "\n",
       "    .dataframe tbody tr th {\n",
       "        vertical-align: top;\n",
       "    }\n",
       "\n",
       "    .dataframe thead th {\n",
       "        text-align: right;\n",
       "    }\n",
       "</style>\n",
       "<table border=\"1\" class=\"dataframe\">\n",
       "  <thead>\n",
       "    <tr style=\"text-align: right;\">\n",
       "      <th></th>\n",
       "      <th>id</th>\n",
       "      <th>amount_tsh</th>\n",
       "      <th>population</th>\n",
       "      <th>public_meeting</th>\n",
       "      <th>construction_year</th>\n",
       "      <th>extraction_type_class</th>\n",
       "      <th>quantity_group</th>\n",
       "      <th>source_type</th>\n",
       "      <th>source_class</th>\n",
       "      <th>waterpoint_type</th>\n",
       "      <th>status_group</th>\n",
       "    </tr>\n",
       "  </thead>\n",
       "  <tbody>\n",
       "    <tr>\n",
       "      <th>0</th>\n",
       "      <td>69572</td>\n",
       "      <td>6000.0</td>\n",
       "      <td>109</td>\n",
       "      <td>True</td>\n",
       "      <td>1999</td>\n",
       "      <td>gravity</td>\n",
       "      <td>enough</td>\n",
       "      <td>spring</td>\n",
       "      <td>groundwater</td>\n",
       "      <td>communal standpipe</td>\n",
       "      <td>functional</td>\n",
       "    </tr>\n",
       "    <tr>\n",
       "      <th>1</th>\n",
       "      <td>8776</td>\n",
       "      <td>0.0</td>\n",
       "      <td>280</td>\n",
       "      <td>True</td>\n",
       "      <td>2010</td>\n",
       "      <td>gravity</td>\n",
       "      <td>insufficient</td>\n",
       "      <td>rainwater harvesting</td>\n",
       "      <td>surface</td>\n",
       "      <td>communal standpipe</td>\n",
       "      <td>functional</td>\n",
       "    </tr>\n",
       "    <tr>\n",
       "      <th>2</th>\n",
       "      <td>34310</td>\n",
       "      <td>25.0</td>\n",
       "      <td>250</td>\n",
       "      <td>True</td>\n",
       "      <td>2009</td>\n",
       "      <td>gravity</td>\n",
       "      <td>enough</td>\n",
       "      <td>dam</td>\n",
       "      <td>surface</td>\n",
       "      <td>communal standpipe multiple</td>\n",
       "      <td>functional</td>\n",
       "    </tr>\n",
       "    <tr>\n",
       "      <th>3</th>\n",
       "      <td>9944</td>\n",
       "      <td>20.0</td>\n",
       "      <td>1</td>\n",
       "      <td>True</td>\n",
       "      <td>2009</td>\n",
       "      <td>submersible</td>\n",
       "      <td>enough</td>\n",
       "      <td>other</td>\n",
       "      <td>unknown</td>\n",
       "      <td>communal standpipe multiple</td>\n",
       "      <td>functional</td>\n",
       "    </tr>\n",
       "    <tr>\n",
       "      <th>4</th>\n",
       "      <td>49056</td>\n",
       "      <td>0.0</td>\n",
       "      <td>345</td>\n",
       "      <td>True</td>\n",
       "      <td>2011</td>\n",
       "      <td>submersible</td>\n",
       "      <td>enough</td>\n",
       "      <td>borehole</td>\n",
       "      <td>groundwater</td>\n",
       "      <td>other</td>\n",
       "      <td>functional</td>\n",
       "    </tr>\n",
       "    <tr>\n",
       "      <th>...</th>\n",
       "      <td>...</td>\n",
       "      <td>...</td>\n",
       "      <td>...</td>\n",
       "      <td>...</td>\n",
       "      <td>...</td>\n",
       "      <td>...</td>\n",
       "      <td>...</td>\n",
       "      <td>...</td>\n",
       "      <td>...</td>\n",
       "      <td>...</td>\n",
       "      <td>...</td>\n",
       "    </tr>\n",
       "    <tr>\n",
       "      <th>34124</th>\n",
       "      <td>44885</td>\n",
       "      <td>0.0</td>\n",
       "      <td>210</td>\n",
       "      <td>True</td>\n",
       "      <td>1967</td>\n",
       "      <td>gravity</td>\n",
       "      <td>enough</td>\n",
       "      <td>river/lake</td>\n",
       "      <td>surface</td>\n",
       "      <td>communal standpipe</td>\n",
       "      <td>non functional</td>\n",
       "    </tr>\n",
       "    <tr>\n",
       "      <th>34125</th>\n",
       "      <td>11164</td>\n",
       "      <td>500.0</td>\n",
       "      <td>89</td>\n",
       "      <td>True</td>\n",
       "      <td>2007</td>\n",
       "      <td>submersible</td>\n",
       "      <td>enough</td>\n",
       "      <td>borehole</td>\n",
       "      <td>groundwater</td>\n",
       "      <td>communal standpipe</td>\n",
       "      <td>non functional</td>\n",
       "    </tr>\n",
       "    <tr>\n",
       "      <th>34126</th>\n",
       "      <td>60739</td>\n",
       "      <td>10.0</td>\n",
       "      <td>125</td>\n",
       "      <td>True</td>\n",
       "      <td>1999</td>\n",
       "      <td>gravity</td>\n",
       "      <td>enough</td>\n",
       "      <td>spring</td>\n",
       "      <td>groundwater</td>\n",
       "      <td>communal standpipe</td>\n",
       "      <td>functional</td>\n",
       "    </tr>\n",
       "    <tr>\n",
       "      <th>34127</th>\n",
       "      <td>27263</td>\n",
       "      <td>4700.0</td>\n",
       "      <td>56</td>\n",
       "      <td>True</td>\n",
       "      <td>1996</td>\n",
       "      <td>gravity</td>\n",
       "      <td>enough</td>\n",
       "      <td>river/lake</td>\n",
       "      <td>surface</td>\n",
       "      <td>communal standpipe</td>\n",
       "      <td>functional</td>\n",
       "    </tr>\n",
       "    <tr>\n",
       "      <th>34128</th>\n",
       "      <td>26348</td>\n",
       "      <td>0.0</td>\n",
       "      <td>150</td>\n",
       "      <td>True</td>\n",
       "      <td>2002</td>\n",
       "      <td>handpump</td>\n",
       "      <td>enough</td>\n",
       "      <td>shallow well</td>\n",
       "      <td>groundwater</td>\n",
       "      <td>hand pump</td>\n",
       "      <td>functional</td>\n",
       "    </tr>\n",
       "  </tbody>\n",
       "</table>\n",
       "<p>34129 rows × 11 columns</p>\n",
       "</div>"
      ],
      "text/plain": [
       "          id  amount_tsh  population  public_meeting  construction_year  \\\n",
       "0      69572      6000.0         109            True               1999   \n",
       "1       8776         0.0         280            True               2010   \n",
       "2      34310        25.0         250            True               2009   \n",
       "3       9944        20.0           1            True               2009   \n",
       "4      49056         0.0         345            True               2011   \n",
       "...      ...         ...         ...             ...                ...   \n",
       "34124  44885         0.0         210            True               1967   \n",
       "34125  11164       500.0          89            True               2007   \n",
       "34126  60739        10.0         125            True               1999   \n",
       "34127  27263      4700.0          56            True               1996   \n",
       "34128  26348         0.0         150            True               2002   \n",
       "\n",
       "      extraction_type_class quantity_group           source_type source_class  \\\n",
       "0                   gravity         enough                spring  groundwater   \n",
       "1                   gravity   insufficient  rainwater harvesting      surface   \n",
       "2                   gravity         enough                   dam      surface   \n",
       "3               submersible         enough                 other      unknown   \n",
       "4               submersible         enough              borehole  groundwater   \n",
       "...                     ...            ...                   ...          ...   \n",
       "34124               gravity         enough            river/lake      surface   \n",
       "34125           submersible         enough              borehole  groundwater   \n",
       "34126               gravity         enough                spring  groundwater   \n",
       "34127               gravity         enough            river/lake      surface   \n",
       "34128              handpump         enough          shallow well  groundwater   \n",
       "\n",
       "                   waterpoint_type    status_group  \n",
       "0               communal standpipe      functional  \n",
       "1               communal standpipe      functional  \n",
       "2      communal standpipe multiple      functional  \n",
       "3      communal standpipe multiple      functional  \n",
       "4                            other      functional  \n",
       "...                            ...             ...  \n",
       "34124           communal standpipe  non functional  \n",
       "34125           communal standpipe  non functional  \n",
       "34126           communal standpipe      functional  \n",
       "34127           communal standpipe      functional  \n",
       "34128                    hand pump      functional  \n",
       "\n",
       "[34129 rows x 11 columns]"
      ]
     },
     "execution_count": 10,
     "metadata": {},
     "output_type": "execute_result"
    }
   ],
   "source": [
    "tww_df.reset_index(drop=True)"
   ]
  },
  {
   "cell_type": "markdown",
   "metadata": {},
   "source": [
    "# Modeling"
   ]
  },
  {
   "cell_type": "markdown",
   "metadata": {},
   "source": [
    "### K-Nearest Neighbors (KNN)\n",
    "The model used for this project is K-Nearest Neighbors (KNN). I went with this classifier as its non-parametric, meaning it doesn’t make assumptions based on how the data is distributed. KNN can also adapt to new examples or data points. Because data is stored in memory, when there is new data present, it will adjust and incorporate the new information into future predictions."
   ]
  },
  {
   "cell_type": "code",
   "execution_count": 11,
   "metadata": {},
   "outputs": [],
   "source": [
    "# Importing tools and modules\n",
    "from sklearn.model_selection import train_test_split, cross_val_score, KFold\n",
    "from sklearn.preprocessing import MinMaxScaler, OneHotEncoder\n",
    "from sklearn.neighbors import KNeighborsClassifier, NearestNeighbors\n",
    "from sklearn.metrics import precision_score, recall_score, f1_score, classification_report\n",
    "from sklearn.metrics import plot_confusion_matrix, plot_roc_curve\n",
    "\n",
    "from imblearn.over_sampling import SMOTE"
   ]
  },
  {
   "cell_type": "code",
   "execution_count": 12,
   "metadata": {},
   "outputs": [],
   "source": [
    "# Train test splitting data\n",
    "X = tww_df.drop(['id', 'status_group'], axis=1)\n",
    "y = tww_df['status_group']\n",
    "\n",
    "X_train, X_test, y_train, y_test = train_test_split(X, y, test_size=0.3, random_state=42)"
   ]
  },
  {
   "cell_type": "markdown",
   "metadata": {},
   "source": [
    "Our data is full of categorical values, in order to be able to use this data with a KNN classifier I first turn the categorical data into numerical values. The following functions taken from the Classification Workflow lecture by Flatiron School, will one hot encode categorical data, and return a dataframe with the encoded values. "
   ]
  },
  {
   "cell_type": "code",
   "execution_count": 13,
   "metadata": {},
   "outputs": [],
   "source": [
    "# Both encode_and_concat_feature_train, and encode_and_concat_feature taken from Flatiron School lecture\n",
    "def encode_and_concat_feature_train(X_train, feature_name):\n",
    "    \"\"\"\n",
    "    Helper function for transforming training data. It takes in the full X dataframe and\n",
    "    feature name, makes a one-hot encoder, and returns the encoder as well as the dataframe\n",
    "    with that feature transformed into multiple columns of 1s and 0s\n",
    "    \"\"\"\n",
    "    # make a one-hot encoder and fit it to the training data\n",
    "    ohe = OneHotEncoder(categories=\"auto\", handle_unknown=\"ignore\")\n",
    "    single_feature_df = X_train[[feature_name]]\n",
    "    ohe.fit(single_feature_df)\n",
    "    \n",
    "    # call helper function that actually encodes the feature and concats it\n",
    "    X_train = encode_and_concat_feature(X_train, feature_name, ohe)\n",
    "    \n",
    "    return ohe, X_train\n",
    "\n",
    "def encode_and_concat_feature(X, feature_name, ohe):\n",
    "    \"\"\"\n",
    "    Helper function for transforming a feature into multiple columns of 1s and 0s. Used\n",
    "    in both training and testing steps. It Takes in the full X dataframe, feature name, \n",
    "    and encoder, and returns the dataframe with that feature transformed into multiple\n",
    "    columns of 1s and 0s\n",
    "    \"\"\"\n",
    "    # create new one-hot encoded df based on the feature\n",
    "    single_feature_df = X[[feature_name]]\n",
    "    feature_array = ohe.transform(single_feature_df).toarray()\n",
    "    ohe_df = pd.DataFrame(feature_array, columns=ohe.categories_[0], index=X.index)\n",
    "    \n",
    "    # drop the old feature from X and concat the new one-hot encoded df\n",
    "    X = X.drop(feature_name, axis=1)\n",
    "    X = pd.concat([X, ohe_df], axis=1)\n",
    "    \n",
    "    return X\n",
    "\n",
    "encoders = {}\n"
   ]
  },
  {
   "cell_type": "code",
   "execution_count": 14,
   "metadata": {},
   "outputs": [],
   "source": [
    "# Onehotencoding categorical data\n",
    "categorical_feature_names = ['public_meeting', 'extraction_type_class', 'quantity_group', 'source_type', 'source_class',\n",
    "                             'waterpoint_type']\n",
    "\n",
    "for categorical_feature in categorical_feature_names:\n",
    "    ohe, X_train = encode_and_concat_feature_train(X_train, categorical_feature)\n",
    "    encoders[categorical_feature] = ohe"
   ]
  },
  {
   "cell_type": "code",
   "execution_count": 15,
   "metadata": {},
   "outputs": [],
   "source": [
    "# Function to quickly get classification scores\n",
    "def model_eval(y_true, pred):\n",
    "    '''\n",
    "    A simple function that takes in train or test data, and predicted results variable, \n",
    "    and prints out its Precision, Recall, and F1-Score.\n",
    "    \n",
    "    Arguments:\n",
    "    y_true: y_train or y_test data\n",
    "    pred: data that has gone through the .predict() function\n",
    "    '''\n",
    "    print('Precision Score: ', precision_score(y_true, pred, average='macro'))\n",
    "    print('Recall Score: ', recall_score(y_true, pred, average='macro'))\n",
    "    print('F1-Score: ', f1_score(y_true, pred, average='macro'))"
   ]
  },
  {
   "cell_type": "markdown",
   "metadata": {},
   "source": [
    "Since our current data is heavily weighted towards the 'functional' status, this can easily cause biases in the model's prediction result. To help lower the model bias as much as possible I use Synthetic Minority Over-sampling Technique (SMOTE) to generate synthetic data based off of the data already present to make the data as even as possible. Since KNN is a distance-based machine learning algorithm, I scale the data with a Min Max scaler. I went with a min max scaler to ensure all features are taken into consideration equally and lower the potential of a model bias."
   ]
  },
  {
   "cell_type": "code",
   "execution_count": 16,
   "metadata": {},
   "outputs": [],
   "source": [
    "# Balancing Train data\n",
    "smote = SMOTE()\n",
    "X_train_resamp, y_train_resamp = smote.fit_resample(X_train, y_train)"
   ]
  },
  {
   "cell_type": "code",
   "execution_count": 17,
   "metadata": {},
   "outputs": [],
   "source": [
    "# Scaling data\n",
    "mm_scaler = MinMaxScaler()"
   ]
  },
  {
   "cell_type": "code",
   "execution_count": 18,
   "metadata": {},
   "outputs": [
    {
     "data": {
      "text/plain": [
       "MinMaxScaler()"
      ]
     },
     "execution_count": 18,
     "metadata": {},
     "output_type": "execute_result"
    }
   ],
   "source": [
    "mm_scaler.fit(X_train_resamp)"
   ]
  },
  {
   "cell_type": "code",
   "execution_count": 19,
   "metadata": {},
   "outputs": [],
   "source": [
    "# Turning our scaled data in a dataframe\n",
    "X_train_mm_scaled = pd.DataFrame(\n",
    "    mm_scaler.transform(X_train_resamp),\n",
    "    index=X_train_resamp.index,\n",
    "    columns=X_train_resamp.columns\n",
    ")"
   ]
  },
  {
   "cell_type": "markdown",
   "metadata": {},
   "source": [
    "### KNN Model 1\n",
    "For our base model a simple KNN model with all default parameters will be a good starting point to see how this classification model deals with our data. Since this data is rather large with over 30k rows I do use the parameter that will essentially give the model more computing power to help speed things up a bit."
   ]
  },
  {
   "cell_type": "code",
   "execution_count": 20,
   "metadata": {},
   "outputs": [
    {
     "data": {
      "text/plain": [
       "KNeighborsClassifier(n_jobs=4)"
      ]
     },
     "execution_count": 20,
     "metadata": {},
     "output_type": "execute_result"
    }
   ],
   "source": [
    "knn_1 = KNeighborsClassifier(n_jobs=4)\n",
    "knn_1.fit(X_train_mm_scaled, y_train_resamp)"
   ]
  },
  {
   "cell_type": "code",
   "execution_count": 21,
   "metadata": {},
   "outputs": [],
   "source": [
    "y_pred_knn_1 = knn_1.predict(X_train_mm_scaled)"
   ]
  },
  {
   "cell_type": "code",
   "execution_count": 22,
   "metadata": {},
   "outputs": [
    {
     "name": "stdout",
     "output_type": "stream",
     "text": [
      "Precision Score:  0.832863096491719\n",
      "Recall Score:  0.8318694238882357\n",
      "F1-Score:  0.8317438531015499\n"
     ]
    }
   ],
   "source": [
    "# Checking model scores\n",
    "model_eval(y_train_resamp, y_pred_knn_1)"
   ]
  },
  {
   "cell_type": "code",
   "execution_count": 23,
   "metadata": {},
   "outputs": [
    {
     "name": "stdout",
     "output_type": "stream",
     "text": [
      "[0.72441217 0.73098202 0.72130014 0.80944147 0.82137299]\n"
     ]
    }
   ],
   "source": [
    "# Cross Validation\n",
    "print(cross_val_score(knn_1, X_train_mm_scaled, y_train_resamp))"
   ]
  },
  {
   "cell_type": "markdown",
   "metadata": {},
   "source": [
    "#### KNN Model 1 Evaluation\n",
    "Not a bad start for our base model, it is a little concerning but not entirely bad that the classification scores are all pretty much the exact same. This tells me that our data is pretty even between 'functional' and 'non-functional' meaning very little chance of the model being biased. That being said, due to how even the data is, it is possible that there may not be enough differences between each feature for the model to reach a definitive prediction."
   ]
  },
  {
   "cell_type": "markdown",
   "metadata": {},
   "source": [
    "### KNN Model 2\n",
    "For KNN model 2 I increased the number of points the model should look at before making its prediction, I did this because a lower value could lead the model to be much more sensitive to noise and outliers that could be found in the data. I also ran the model with a different algorithm meant for complex data as well as 'l1' metric."
   ]
  },
  {
   "cell_type": "code",
   "execution_count": 24,
   "metadata": {},
   "outputs": [
    {
     "data": {
      "text/plain": [
       "KNeighborsClassifier(algorithm='ball_tree', metric='l1', n_jobs=4,\n",
       "                     n_neighbors=7)"
      ]
     },
     "execution_count": 24,
     "metadata": {},
     "output_type": "execute_result"
    }
   ],
   "source": [
    "# KNN model 2\n",
    "knn_2 = KNeighborsClassifier(n_neighbors=7,  n_jobs=4, algorithm='ball_tree', metric='l1')\n",
    "knn_2.fit(X_train_mm_scaled, y_train_resamp)"
   ]
  },
  {
   "cell_type": "code",
   "execution_count": 25,
   "metadata": {},
   "outputs": [],
   "source": [
    "y_pred_knn_2 = knn_2.predict(X_train_mm_scaled)"
   ]
  },
  {
   "cell_type": "code",
   "execution_count": 26,
   "metadata": {},
   "outputs": [
    {
     "name": "stdout",
     "output_type": "stream",
     "text": [
      "Precision Score:  0.8190910936636038\n",
      "Recall Score:  0.8174147589736496\n",
      "F1-Score:  0.8171746422048325\n"
     ]
    }
   ],
   "source": [
    "# Checking model scores\n",
    "model_eval(y_train_resamp, y_pred_knn_2)"
   ]
  },
  {
   "cell_type": "code",
   "execution_count": 27,
   "metadata": {},
   "outputs": [
    {
     "name": "stdout",
     "output_type": "stream",
     "text": [
      "[0.7276971  0.72856155 0.7275242  0.8030434  0.81704997]\n"
     ]
    }
   ],
   "source": [
    "# Cross Validation\n",
    "print(cross_val_score(knn_2, X_train_mm_scaled, y_train_resamp))"
   ]
  },
  {
   "cell_type": "markdown",
   "metadata": {},
   "source": [
    "#### KNN Model 2 Evaluation\n",
    "KNN Model 2, while its classification scores are lower than our base model it is not as big of a difference as it is only a range of 0.01 to 0.02 points. Comparing our scores to our cross-validation scores shows promising results, Overall this models seems to be doing well with unforseen data, but I believe from this model if I continue increasing the k value then the model will easily underfit."
   ]
  },
  {
   "cell_type": "markdown",
   "metadata": {},
   "source": [
    "### KNN Model 3\n",
    "The previous model yielded great results, but with that being said there is still room for improvements considering how the higher the k value the lower our classification score gets. So, in KNN model 3 I reverted the k value back to the default 5 like the base model. Just like the previous model, I kept the same metric and algorithm as these two parameters have been yielding good results."
   ]
  },
  {
   "cell_type": "code",
   "execution_count": 28,
   "metadata": {},
   "outputs": [
    {
     "data": {
      "text/plain": [
       "KNeighborsClassifier(algorithm='ball_tree', metric='l1', n_jobs=4)"
      ]
     },
     "execution_count": 28,
     "metadata": {},
     "output_type": "execute_result"
    }
   ],
   "source": [
    "# KNN model 3\n",
    "knn_3 = KNeighborsClassifier(n_neighbors=5, n_jobs=4, algorithm='ball_tree', metric='l1')\n",
    "knn_3.fit(X_train_mm_scaled, y_train_resamp)"
   ]
  },
  {
   "cell_type": "code",
   "execution_count": 29,
   "metadata": {},
   "outputs": [],
   "source": [
    "y_pred_knn_3 = knn_3.predict(X_train_mm_scaled)"
   ]
  },
  {
   "cell_type": "code",
   "execution_count": 30,
   "metadata": {},
   "outputs": [
    {
     "name": "stdout",
     "output_type": "stream",
     "text": [
      "Precision Score:  0.8345430567742262\n",
      "Recall Score:  0.8332526454111626\n",
      "F1-Score:  0.8330916942495941\n"
     ]
    }
   ],
   "source": [
    "# Checking model scores\n",
    "model_eval(y_train_resamp, y_pred_knn_3)"
   ]
  },
  {
   "cell_type": "code",
   "execution_count": 31,
   "metadata": {},
   "outputs": [
    {
     "name": "stdout",
     "output_type": "stream",
     "text": [
      "[0.72648686 0.73530429 0.7257953  0.80511845 0.81618537]\n"
     ]
    }
   ],
   "source": [
    "# Cross Validation\n",
    "print(cross_val_score(knn_3, X_train_mm_scaled, y_train_resamp))"
   ]
  },
  {
   "cell_type": "markdown",
   "metadata": {},
   "source": [
    "#### KNN Model 3 Evaluation\n",
    "Out of the three displayed models in this notebook, KNN model 3 yielded the highest classification score averaging at an 83 for our classification scores, but overall .002 higher than our base model. Comparing the classification scores with the cross validation score we can see that the scores are close, just slightly off from the highest cross validation score so there may be slight overfitting but I wouldn’t consider it very concerning."
   ]
  },
  {
   "cell_type": "markdown",
   "metadata": {},
   "source": [
    "### KNN Final Model"
   ]
  },
  {
   "cell_type": "markdown",
   "metadata": {},
   "source": [
    "From the 3 KNN models displayed above, although just slightly higher, KNN model 3 yielded the best results so that will be the model I will use with the test data. But before that I first need to prepare the test data by encoding categorical values and scaling it."
   ]
  },
  {
   "cell_type": "code",
   "execution_count": 32,
   "metadata": {},
   "outputs": [],
   "source": [
    "# Preparing Test data for model use\n",
    "for categorical_feature in categorical_feature_names:\n",
    "    ohe, X_test = encode_and_concat_feature_train(X_test, categorical_feature)\n",
    "    encoders[categorical_feature] = ohe"
   ]
  },
  {
   "cell_type": "code",
   "execution_count": 33,
   "metadata": {},
   "outputs": [],
   "source": [
    "# Balancing Test data with SMOTE\n",
    "X_test_resamp, y_test_resamp = smote.fit_resample(X_test, y_test)"
   ]
  },
  {
   "cell_type": "code",
   "execution_count": 34,
   "metadata": {},
   "outputs": [
    {
     "data": {
      "text/plain": [
       "MinMaxScaler()"
      ]
     },
     "execution_count": 34,
     "metadata": {},
     "output_type": "execute_result"
    }
   ],
   "source": [
    "# Fitting resampled data to scaler\n",
    "mm_scaler.fit(X_test_resamp)"
   ]
  },
  {
   "cell_type": "code",
   "execution_count": 35,
   "metadata": {},
   "outputs": [],
   "source": [
    "# Turning scaled data back into dataframe\n",
    "X_test_mm_scaled = pd.DataFrame(\n",
    "    mm_scaler.transform(X_test_resamp),\n",
    "    index=X_test_resamp.index,\n",
    "   columns=X_test_resamp.columns\n",
    ")"
   ]
  },
  {
   "cell_type": "code",
   "execution_count": 36,
   "metadata": {},
   "outputs": [
    {
     "data": {
      "text/plain": [
       "KNeighborsClassifier(algorithm='ball_tree', metric='l1', n_jobs=4)"
      ]
     },
     "execution_count": 36,
     "metadata": {},
     "output_type": "execute_result"
    }
   ],
   "source": [
    "# KNN Final model\n",
    "knn_final = KNeighborsClassifier(n_neighbors=5, n_jobs=4, algorithm='ball_tree', metric='l1')\n",
    "knn_final.fit(X_test_mm_scaled, y_test_resamp)"
   ]
  },
  {
   "cell_type": "code",
   "execution_count": 37,
   "metadata": {},
   "outputs": [],
   "source": [
    "y_pred_knn_final = knn_final.predict(X_test_mm_scaled)"
   ]
  },
  {
   "cell_type": "code",
   "execution_count": 38,
   "metadata": {},
   "outputs": [
    {
     "name": "stdout",
     "output_type": "stream",
     "text": [
      "Precision Score:  0.8308837878022957\n",
      "Recall Score:  0.8298835705045278\n",
      "F1-Score:  0.8297549134905973\n"
     ]
    }
   ],
   "source": [
    "# Checking model scores\n",
    "model_eval(y_test_resamp, y_pred_knn_final)"
   ]
  },
  {
   "cell_type": "code",
   "execution_count": 39,
   "metadata": {},
   "outputs": [
    {
     "name": "stdout",
     "output_type": "stream",
     "text": [
      "[0.7061439  0.69846403 0.70129345 0.76991508 0.81560857]\n"
     ]
    }
   ],
   "source": [
    "# Cross Validation\n",
    "print(cross_val_score(knn_final, X_test_mm_scaled, y_test_resamp))"
   ]
  },
  {
   "cell_type": "markdown",
   "metadata": {},
   "source": [
    "### Confusion Matrix Plots"
   ]
  },
  {
   "cell_type": "code",
   "execution_count": 40,
   "metadata": {},
   "outputs": [
    {
     "data": {
      "image/png": "[encoded data removed]",
      "text/plain": [
       "<Figure size 1080x720 with 8 Axes>"
      ]
     },
     "metadata": {
      "needs_background": "light"
     },
     "output_type": "display_data"
    }
   ],
   "source": [
    "fix, ax = plt.subplots(nrows=2, ncols=2, figsize=(15, 10))\n",
    "\n",
    "ax[0, 0].set_title(\"KNN Model 1\")\n",
    "ax[0, 1].set_title(\"KNN Model 2\")\n",
    "ax[1, 0].set_title(\"KNN Model 3\")\n",
    "ax[1, 1].set_title(\"KNN Final Model\")\n",
    "\n",
    "plot_confusion_matrix(knn_1, X_train_mm_scaled, y_train_resamp,\n",
    "                      ax=ax[0, 0], cmap='Blues')\n",
    "plot_confusion_matrix(knn_2, X_train_mm_scaled, y_train_resamp,\n",
    "                      ax=ax[0, 1], cmap='Blues')\n",
    "plot_confusion_matrix(knn_3, X_train_mm_scaled, y_train_resamp,\n",
    "                      ax=ax[1, 0], cmap='Blues')\n",
    "plot_confusion_matrix(knn_final, X_test_mm_scaled, y_test_resamp,\n",
    "                      ax=ax[1, 1], cmap='Blues')\n",
    "plt.tight_layout();"
   ]
  },
  {
   "cell_type": "markdown",
   "metadata": {},
   "source": [
    "### Receiver Operating Characteristic Curve Plot"
   ]
  },
  {
   "cell_type": "code",
   "execution_count": 41,
   "metadata": {
    "scrolled": false
   },
   "outputs": [
    {
     "data": {
      "image/png": "[encoded data removed]",
      "text/plain": [
       "<Figure size 720x720 with 1 Axes>"
      ]
     },
     "metadata": {
      "needs_background": "light"
     },
     "output_type": "display_data"
    }
   ],
   "source": [
    "fig, ax = plt.subplots(figsize=(10, 10))\n",
    "\n",
    "plot_roc_curve(knn_1, X_train_mm_scaled, y_train_resamp, \n",
    "               name='KNN Model 1', ax=ax)\n",
    "plot_roc_curve(knn_2, X_train_mm_scaled, y_train_resamp, \n",
    "               name='KNN Model 2', ax=ax)\n",
    "plot_roc_curve(knn_3, X_train_mm_scaled, y_train_resamp, \n",
    "               name='KNN Model 3', ax=ax)\n",
    "plot_roc_curve(knn_final, X_test_mm_scaled, y_test_resamp, \n",
    "               name='KNN Final Model', ax=ax);"
   ]
  },
  {
   "cell_type": "markdown",
   "metadata": {},
   "source": [
    "# Evaluation\n",
    "For this project, the **\"non functional\" category would be seen as the positive outcome, and \"functional\" as the negative** since we are trying to find which pumps and/or wells are in need of repairs. KNN model 3, which is what the final model is based off, gives the lowest false negatives, and almost gives the lowest false positive. In this case, a lower false negative is beneficial because that means **the model is able to properly categorize between \"functional\" or \"non functional\"**. As for the false positives, the final model appears to be putting about 10% as \"non functional\" but may be actually \"functional\", considering the overall size of the of the dataset of 50k+ rows, a total of 5k of “non functional” but may possibly actually “functional” is not a bad result.\n",
    "\n",
    "In terms of performance, the final model got an **average of 83 for its classification scores with the test data**, these results are very similar with those of the training data. With the model’s precision, recall, and f1-scores being almost exact, this tells us the model generalized the data well and is very unlikely to overfit new or unseen data. The final model got an ROC curve score of .92, further solidifying this model’s ability distinguishing between 'functional' and 'non functional' predictions. For cross validation scores, the final model's lowest score showed an **accuracy of 70, while the highest score calculated was an 82** so this model will do fairly well with new data when it is presented."
   ]
  },
  {
   "cell_type": "markdown",
   "metadata": {},
   "source": [
    "## Limitations\n",
    "A limitation this data presents is that it doesn’t necessarily **provide any information on the amount of usage that the individual water sources get on any given day**. We can only really assume that a water source in an area with a population of 100 gets more use than one with a population of 10, but without really knowing usage we **can’t really know if a water source with a population of 10 is actually the one getting much more use than the population of 100**.\n",
    "\n",
    "The dataset provides location information such as **longitude/latitude, region codes, etc.**, a lot of this information is more of a unique identifier like the 'id' column in the dataset and adds very little benefit to a model’s prediction outcome. Also, **quite a few columns have the same values but titled differently, so in a way its redundant data**. While cleaning these rows out of the dataset wasn’t an issue, it is data that could’ve possibly help with the model predictions if it contained other information."
   ]
  },
  {
   "cell_type": "markdown",
   "metadata": {},
   "source": [
    "## Next Steps\n",
    "As it is now, the final model is not a bad start when it comes to predicting which water pumps are \"functional\" and \"non functional\". That being said, **the model could still be fine-tuned or even possibly tweaked further to increase the model’s precision with its predictions**.\n",
    "\n",
    "If possible, **gathering data on the amount of usage each kind of pump, water well, etc.** gets on any given day can be largely beneficial when predicting which sources are \"functional\" or \"non functional\".\n",
    "\n",
    "This may be more wishful thinking than anything, but if at all possible to **gather location weather information as either mild, moderate, or severe values on either a monthly or yearly span** for the location of the equipment extracting the water can help the model with its prediction, as a **pump or well under constant beating of bad weather is much more susceptible to exterior damage**."
   ]
  }
 ],
 "metadata": {
  "kernelspec": {
   "display_name": "Python [conda env:learn-env2] *",
   "language": "python",
   "name": "conda-env-learn-env2-py"
  },
  "language_info": {
   "codemirror_mode": {
    "name": "ipython",
    "version": 3
   },
   "file_extension": ".py",
   "mimetype": "text/x-python",
   "name": "python",
   "nbconvert_exporter": "python",
   "pygments_lexer": "ipython3",
   "version": "3.8.5"
  }
 },
 "nbformat": 4,
 "nbformat_minor": 4
}
